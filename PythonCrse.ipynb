{
 "cells": [
  {
   "cell_type": "markdown",
   "id": "209357fe",
   "metadata": {},
   "source": [
    "## If/Else Statements"
   ]
  },
  {
   "cell_type": "code",
   "execution_count": 1,
   "id": "d6803be4",
   "metadata": {},
   "outputs": [
    {
     "name": "stdout",
     "output_type": "stream",
     "text": [
      "b is greater than a\n"
     ]
    }
   ],
   "source": [
    "a = 33\n",
    "b = 200\n",
    "if b > a:\n",
    "  print(\"b is greater than a\")"
   ]
  },
  {
   "cell_type": "code",
   "execution_count": null,
   "id": "a2dff60d",
   "metadata": {},
   "outputs": [],
   "source": [
    "a = 33\n",
    "b = 33\n",
    "if b > a:\n",
    "  print(\"b is greater than a\")\n",
    "elif a == b:\n",
    "  print(\"a and b are equal\")"
   ]
  },
  {
   "cell_type": "code",
   "execution_count": null,
   "id": "0b20065b",
   "metadata": {},
   "outputs": [],
   "source": [
    "a = 200\n",
    "b = 33\n",
    "if b > a:\n",
    "  print(\"b is greater than a\")\n",
    "elif a == b:\n",
    "  print(\"a and b are equal\")\n",
    "else:\n",
    "  print(\"a is greater than b\")"
   ]
  },
  {
   "cell_type": "markdown",
   "id": "26b62c12",
   "metadata": {},
   "source": [
    "## While Loops"
   ]
  },
  {
   "cell_type": "code",
   "execution_count": null,
   "id": "300473b4",
   "metadata": {},
   "outputs": [],
   "source": [
    "i = 1\n",
    "while i < 6:\n",
    "  print(i)\n",
    "  i += 1"
   ]
  },
  {
   "cell_type": "code",
   "execution_count": null,
   "id": "ee9c7332",
   "metadata": {},
   "outputs": [],
   "source": [
    "i = 1\n",
    "while i < 6:\n",
    "  print(i)\n",
    "  if i == 3:\n",
    "    break\n",
    "  i += 1"
   ]
  },
  {
   "cell_type": "markdown",
   "id": "5a35707d",
   "metadata": {},
   "source": [
    "## Functions"
   ]
  },
  {
   "cell_type": "markdown",
   "id": "0a9d454b",
   "metadata": {},
   "source": [
    "#### Comparison of an older R function I found in GitHub"
   ]
  },
  {
   "cell_type": "code",
   "execution_count": null,
   "id": "2c0e30ef",
   "metadata": {},
   "outputs": [],
   "source": [
    "find_variable_patterns <- function(variables) {\n",
    "    result <- data.frame(variable_pattern = character(), long_variable = character(), stringsAsFactors = FALSE)\n",
    "    for (i in seq_along(variables)) {\n",
    "        pattern <- variables[i]\n",
    "        long_vars <- variables[grepl(pattern, variables) & variables != pattern]# Find variables that contain the current variable\n",
    "        if (length(long_vars) > 0) {# If long variables are found, add them to the result\n",
    "            for (long_var in long_vars) {\n",
    "                result <- rbind(result, data.frame(variable_pattern = pattern, long_variable = long_var, stringsAsFactors = FALSE))\n",
    "            }}} \n",
    "    return(result)}"
   ]
  },
  {
   "cell_type": "code",
   "execution_count": null,
   "id": "dc311c76",
   "metadata": {},
   "outputs": [],
   "source": [
    "fruits = [\"apple\", \"banana\", \"cherry\"]\n",
    "for x in fruits:\n",
    "  print(x)"
   ]
  },
  {
   "cell_type": "code",
   "execution_count": null,
   "id": "56783d33",
   "metadata": {},
   "outputs": [],
   "source": [
    "def my_function(child3, child2, child1):\n",
    "  print(\"The youngest child is \" + child3)\n",
    "\n",
    "my_function(child1 = \"Emil\", child2 = \"Tobias\", child3 = \"Linus\")"
   ]
  },
  {
   "cell_type": "code",
   "execution_count": null,
   "id": "11d754b8",
   "metadata": {},
   "outputs": [],
   "source": [
    "def my_function(fname, lname):\n",
    "  print(fname + \" \" + lname)\n",
    "\n",
    "my_function(\"Emil\", \"Refsnes\")"
   ]
  },
  {
   "cell_type": "markdown",
   "id": "2223cc9f",
   "metadata": {},
   "source": [
    "### This line is a snippet of code from a function in GCP"
   ]
  },
  {
   "cell_type": "code",
   "execution_count": null,
   "id": "2fe06a9d",
   "metadata": {},
   "outputs": [],
   "source": [
    "def should_file_be_exported(file_name):\n",
    "    '''Check if a file should be exported based on tags to prevent accidental exports.'''\n",
    "    required_tags = [\"_boxfolder_\", \"_fileid_\"]\n",
    "    forbidden_tags = [\"tmp/\", \"BODY\", \"HEADER\"]\n",
    "    \n",
    "    all_required_tags_present = all(tag in file_name for tag in required_tags)\n",
    "    no_forbidden_tags_present = not any(tag in file_name for tag in forbidden_tags)\n",
    "    \n",
    "    # Return TRUE if the file should be exported\n",
    "    return all_required_tags_present and no_forbidden_tags_present"
   ]
  },
  {
   "cell_type": "markdown",
   "id": "2b286b05",
   "metadata": {},
   "source": [
    "## Try/Except"
   ]
  },
  {
   "cell_type": "code",
   "execution_count": null,
   "id": "e6c08f5d",
   "metadata": {},
   "outputs": [],
   "source": [
    "try:\n",
    "  print(x)\n",
    "except:\n",
    "  print(\"An exception occurred\")"
   ]
  },
  {
   "cell_type": "code",
   "execution_count": null,
   "id": "efff88c0",
   "metadata": {},
   "outputs": [],
   "source": [
    "try:\n",
    "  print(x)\n",
    "except NameError:\n",
    "  print(\"Variable x is not defined\")\n",
    "except:\n",
    "  print(\"Something else went wrong\")"
   ]
  },
  {
   "cell_type": "code",
   "execution_count": 4,
   "id": "5f5b3414",
   "metadata": {},
   "outputs": [
    {
     "name": "stdout",
     "output_type": "stream",
     "text": [
      "Hello\n",
      "Nothing went wrong\n"
     ]
    }
   ],
   "source": [
    "try:\n",
    "  print(\"Hello\")\n",
    "except:\n",
    "  print(\"Something went wrong\")\n",
    "else:\n",
    "  print(\"Nothing went wrong\")"
   ]
  },
  {
   "cell_type": "code",
   "execution_count": null,
   "id": "050a5d93",
   "metadata": {},
   "outputs": [],
   "source": []
  },
  {
   "cell_type": "code",
   "execution_count": null,
   "id": "e02c63ec",
   "metadata": {},
   "outputs": [],
   "source": []
  },
  {
   "cell_type": "code",
   "execution_count": null,
   "id": "01a82d77",
   "metadata": {},
   "outputs": [],
   "source": []
  }
 ],
 "metadata": {
  "kernelspec": {
   "display_name": "Python 3",
   "language": "python",
   "name": "python3"
  },
  "language_info": {
   "codemirror_mode": {
    "name": "ipython",
    "version": 3
   },
   "file_extension": ".py",
   "mimetype": "text/x-python",
   "name": "python",
   "nbconvert_exporter": "python",
   "pygments_lexer": "ipython3",
   "version": "3.13.5"
  }
 },
 "nbformat": 4,
 "nbformat_minor": 5
}
