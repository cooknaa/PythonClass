{
 "cells": [
  {
   "cell_type": "markdown",
   "id": "4768dc48",
   "metadata": {},
   "source": [
    "## Basic Syntax"
   ]
  },
  {
   "cell_type": "markdown",
   "id": "1846446a",
   "metadata": {},
   "source": [
    "### Basic Types"
   ]
  },
  {
   "cell_type": "code",
   "execution_count": null,
   "id": "2e97aa5f",
   "metadata": {},
   "outputs": [
    {
     "name": "stdout",
     "output_type": "stream",
     "text": [
      "<class 'str'>\n",
      "<class 'int'>\n",
      "<class 'float'>\n",
      "<class 'str'>\n"
     ]
    }
   ],
   "source": [
    "print(type(\"a\"))\n",
    "print(type(2))\n",
    "print(type(2.5))"
   ]
  },
  {
   "cell_type": "markdown",
   "id": "b76a519c",
   "metadata": {},
   "source": [
    "### Types of fill in blank print statements"
   ]
  },
  {
   "cell_type": "code",
   "execution_count": null,
   "id": "4559478a",
   "metadata": {},
   "outputs": [],
   "source": [
    "# Basic Version\n",
    "print(\"This \" + \"is \" + \"pretty \" + \"neat!\")"
   ]
  },
  {
   "cell_type": "code",
   "execution_count": 6,
   "id": "8625dfaa",
   "metadata": {},
   "outputs": [
    {
     "name": "stdout",
     "output_type": "stream",
     "text": [
      "Bleh\n",
      "____________________\n"
     ]
    }
   ],
   "source": [
    "# Another Basic way\n",
    "phraze = f\"Bleh\\n\"+ '_'*20\n",
    "print(phraze)"
   ]
  },
  {
   "cell_type": "code",
   "execution_count": null,
   "id": "d746f4c5",
   "metadata": {},
   "outputs": [
    {
     "name": "stdout",
     "output_type": "stream",
     "text": [
      "This is pretty neat.\n"
     ]
    }
   ],
   "source": [
    "# .format Version\n",
    "print('{} {} {} {}.'.format(\"This\", 'is', 'pretty', 'neat'))"
   ]
  },
  {
   "cell_type": "code",
   "execution_count": null,
   "id": "a30db1e7",
   "metadata": {},
   "outputs": [
    {
     "name": "stdout",
     "output_type": "stream",
     "text": [
      "The area of the triangle is: 9.0\n"
     ]
    }
   ],
   "source": [
    "# f-string: My preferred method (f-string: formatted string literals)\n",
    "base = 6\n",
    "height = 3\n",
    "area = (base*height)/2\n",
    "print(f\"The area of the triangle is: {str(area)}\") "
   ]
  },
  {
   "cell_type": "code",
   "execution_count": 9,
   "id": "96a8e17a",
   "metadata": {},
   "outputs": [],
   "source": [
    "import typing\n",
    "# Define a variable of type str\n",
    "z: str = \"Hello, world!\"\n",
    "# Define a variable of type int\n",
    "x: int = 10\n",
    "# Define a variable of type float\n",
    "y: float = 1.23\n",
    "# Define a variable of type list\n",
    "list_of_numbers: typing.List[int] = [1, 2, 3]\n",
    "# Define a variable of type tuple\n",
    "tuple_of_numbers: typing.Tuple[int, int, int] = (1, 2, 3)\n",
    "# Define a variable of type dict\n",
    "dictionary: typing.Dict[str, int] = {\"key1\": 1, \"key2\": 2}\n",
    "# Define a variable of type set\n",
    "set_of_numbers: typing.Set[int] = {1, 2, 3}"
   ]
  },
  {
   "cell_type": "code",
   "execution_count": 8,
   "id": "54273768",
   "metadata": {},
   "outputs": [],
   "source": [
    "# print(z)\n",
    "# print((type(z)))\n",
    "# x\n",
    "# y\n",
    "# list_of_numbers\n",
    "# tuple_of_numbers\n",
    "# dictionary\n",
    "# set_of_numbers"
   ]
  },
  {
   "cell_type": "markdown",
   "id": "eddbbb29",
   "metadata": {},
   "source": [
    "### Joins"
   ]
  },
  {
   "cell_type": "code",
   "execution_count": 5,
   "id": "396bf401",
   "metadata": {},
   "outputs": [
    {
     "name": "stdout",
     "output_type": "stream",
     "text": [
      "G\n",
      "ting\n",
      "Earthlings\n",
      "Greet\n"
     ]
    }
   ],
   "source": [
    "string1 = \"Greetings, Earthlings\"\n",
    "print(string1[0])   # Prints “G”--NOTE: R indexing starts at 1, but Python starts at 0. \n",
    "print(string1[4:8]) # Prints “ting”\n",
    "print(string1[11:]) # Prints “Earthlings”\n",
    "print(string1[:5])  # Prints “Greet”"
   ]
  },
  {
   "cell_type": "code",
   "execution_count": 9,
   "id": "3ccef9b2",
   "metadata": {},
   "outputs": [
    {
     "name": "stdout",
     "output_type": "stream",
     "text": [
      "Earthlings\n"
     ]
    }
   ],
   "source": [
    "# Prints “Earthlings” again\n",
    "print(string1[-10:])"
   ]
  },
  {
   "cell_type": "code",
   "execution_count": null,
   "id": "92bdf0d6",
   "metadata": {},
   "outputs": [],
   "source": [
    "# Prints “Hello world”\n",
    "print(\"Hello\" + \" \" + \"world\")"
   ]
  },
  {
   "cell_type": "code",
   "execution_count": null,
   "id": "145151b3",
   "metadata": {},
   "outputs": [],
   "source": [
    "greetings = [\"Hello\", \"world\"]\n",
    "print(\" \".join(greetings))  # Prints \"Hello world\""
   ]
  },
  {
   "cell_type": "code",
   "execution_count": null,
   "id": "99ec2c22",
   "metadata": {},
   "outputs": [],
   "source": [
    "# You can also concatenate a combination of strings and variables like in the following example.\n",
    "name = \"Alice\"\n",
    "print(\"Hello, \" + name + \"!\")  # Prints \"Hello, Alice!\""
   ]
  },
  {
   "cell_type": "code",
   "execution_count": 4,
   "id": "7fe83254",
   "metadata": {},
   "outputs": [
    {
     "name": "stdout",
     "output_type": "stream",
     "text": [
      "Hello, Alice!\n"
     ]
    }
   ],
   "source": [
    "# f-string: My preferred method (f-string: formatted string literals)\n",
    "name = 'Alice'\n",
    "print(f\"Hello, {name}!\") "
   ]
  },
  {
   "cell_type": "markdown",
   "id": "209357fe",
   "metadata": {},
   "source": [
    "## If/Else Statements"
   ]
  },
  {
   "cell_type": "code",
   "execution_count": null,
   "id": "951221e3",
   "metadata": {},
   "outputs": [],
   "source": [
    "# Basic If/else statement for R (Won't run)\n",
    "a <- 33\n",
    "b <- 200\n",
    "\n",
    "if (b > a) {\n",
    "  print(\"b is greater than a\")\n",
    "}"
   ]
  },
  {
   "cell_type": "code",
   "execution_count": 1,
   "id": "d6803be4",
   "metadata": {},
   "outputs": [
    {
     "name": "stdout",
     "output_type": "stream",
     "text": [
      "b is greater than a\n"
     ]
    }
   ],
   "source": [
    "a = 33\n",
    "b = 200\n",
    "if b > a:\n",
    "  print(\"b is greater than a\")"
   ]
  },
  {
   "cell_type": "code",
   "execution_count": null,
   "id": "a2dff60d",
   "metadata": {},
   "outputs": [],
   "source": [
    "a = 33\n",
    "b = 33\n",
    "if b > a:\n",
    "  print(\"b is greater than a\")\n",
    "elif a == b:\n",
    "  print(\"a and b are equal\")"
   ]
  },
  {
   "cell_type": "code",
   "execution_count": null,
   "id": "0b20065b",
   "metadata": {},
   "outputs": [],
   "source": [
    "a = 200\n",
    "b = 33\n",
    "if b > a:\n",
    "  print(\"b is greater than a\")\n",
    "elif a == b:\n",
    "  print(\"a and b are equal\")\n",
    "else:\n",
    "  print(\"a is greater than b\")"
   ]
  },
  {
   "cell_type": "markdown",
   "id": "26b62c12",
   "metadata": {},
   "source": [
    "## While Loops"
   ]
  },
  {
   "cell_type": "code",
   "execution_count": null,
   "id": "4deecb68",
   "metadata": {},
   "outputs": [],
   "source": [
    "# Basic R While Loop\n",
    "i <- 1\n",
    "while (i < 6) {\n",
    "  print(i)\n",
    "  i <- i + 1\n",
    "}"
   ]
  },
  {
   "cell_type": "code",
   "execution_count": null,
   "id": "300473b4",
   "metadata": {},
   "outputs": [],
   "source": [
    "# Python\n",
    "i = 1\n",
    "while i < 6:\n",
    "  print(i)\n",
    "  i += 1"
   ]
  },
  {
   "cell_type": "code",
   "execution_count": null,
   "id": "fb98b8c5",
   "metadata": {},
   "outputs": [],
   "source": [
    "# Basic For loop for R\n",
    "for (x in 1:10) {\n",
    "  print(x)\n",
    "}"
   ]
  },
  {
   "cell_type": "code",
   "execution_count": null,
   "id": "907e3754",
   "metadata": {},
   "outputs": [
    {
     "name": "stdout",
     "output_type": "stream",
     "text": [
      "1\n",
      "2\n",
      "3\n",
      "4\n",
      "5\n",
      "6\n",
      "7\n",
      "8\n",
      "9\n",
      "10\n"
     ]
    }
   ],
   "source": [
    "# Same Code but in Python\n",
    "for i in range(1, 11):\n",
    "    print(i)"
   ]
  },
  {
   "cell_type": "markdown",
   "id": "2bb97716",
   "metadata": {},
   "source": [
    "### Branching with While statement and if statement"
   ]
  },
  {
   "cell_type": "code",
   "execution_count": null,
   "id": "433894e9",
   "metadata": {},
   "outputs": [],
   "source": [
    "i <- 1\n",
    "while (i < 6) {\n",
    "  print(i)\n",
    "  i <- i + 1\n",
    "}"
   ]
  },
  {
   "cell_type": "code",
   "execution_count": null,
   "id": "ee9c7332",
   "metadata": {},
   "outputs": [],
   "source": [
    "i = 1\n",
    "while i < 6:\n",
    "  print(i)\n",
    "  if i == 3:\n",
    "    break\n",
    "  i += 1"
   ]
  },
  {
   "cell_type": "markdown",
   "id": "5a35707d",
   "metadata": {},
   "source": [
    "## Functions"
   ]
  },
  {
   "cell_type": "markdown",
   "id": "0a9d454b",
   "metadata": {},
   "source": [
    "#### Comparison of an older R function I found in GitHub"
   ]
  },
  {
   "cell_type": "code",
   "execution_count": null,
   "id": "2c0e30ef",
   "metadata": {},
   "outputs": [],
   "source": [
    "find_variable_patterns <- function(variables) {\n",
    "    result <- data.frame(variable_pattern = character(), long_variable = character(), stringsAsFactors = FALSE)\n",
    "    for (i in seq_along(variables)) {\n",
    "        pattern <- variables[i]\n",
    "        long_vars <- variables[grepl(pattern, variables) & variables != pattern]# Find variables that contain the current variable\n",
    "        if (length(long_vars) > 0) {# If long variables are found, add them to the result\n",
    "            for (long_var in long_vars) {\n",
    "                result <- rbind(result, data.frame(variable_pattern = pattern, long_variable = long_var, stringsAsFactors = FALSE))\n",
    "            }}} \n",
    "    return(result)}"
   ]
  },
  {
   "cell_type": "code",
   "execution_count": null,
   "id": "b62be7d8",
   "metadata": {},
   "outputs": [],
   "source": [
    "# Define a simple function called 'greet'\n",
    "greet <- function(name) {\n",
    "  message <- paste(\"Hello,\", name, \"!\")\n",
    "  return(message)\n",
    "}\n",
    "\n",
    "# Call the 'greet' function with an argument\n",
    "result <- greet(\"Alice\")"
   ]
  },
  {
   "cell_type": "code",
   "execution_count": null,
   "id": "dc311c76",
   "metadata": {},
   "outputs": [],
   "source": [
    "fruits = [\"apple\", \"banana\", \"cherry\"]\n",
    "for x in fruits:\n",
    "  print(x)"
   ]
  },
  {
   "cell_type": "code",
   "execution_count": 13,
   "id": "56783d33",
   "metadata": {},
   "outputs": [
    {
     "data": {
      "text/plain": [
       "'The youngest child is Linus'"
      ]
     },
     "execution_count": 13,
     "metadata": {},
     "output_type": "execute_result"
    }
   ],
   "source": [
    "def my_function(child3, child2, child1):\n",
    "  return(\"The youngest child is \" + child3)\n",
    "\n",
    "my_function(child1 = \"Emil\", child2 = \"Tobias\", child3 = \"Linus\")"
   ]
  },
  {
   "cell_type": "code",
   "execution_count": 14,
   "id": "11d754b8",
   "metadata": {},
   "outputs": [
    {
     "data": {
      "text/plain": [
       "'Emil Refsnes'"
      ]
     },
     "execution_count": 14,
     "metadata": {},
     "output_type": "execute_result"
    }
   ],
   "source": [
    "def my_function(fname, lname):\n",
    "  return(fname + \" \" + lname)\n",
    "\n",
    "my_function(\"Emil\", \"Refsnes\")"
   ]
  },
  {
   "cell_type": "markdown",
   "id": "2223cc9f",
   "metadata": {},
   "source": [
    "### This line is a snippet of code from a function in GCP"
   ]
  },
  {
   "cell_type": "code",
   "execution_count": null,
   "id": "2fe06a9d",
   "metadata": {},
   "outputs": [],
   "source": [
    "def should_file_be_exported(file_name):\n",
    "    '''Check if a file should be exported based on tags to prevent accidental exports.'''\n",
    "    required_tags = [\"_boxfolder_\", \"_fileid_\"]\n",
    "    forbidden_tags = [\"tmp/\", \"BODY\", \"HEADER\"]\n",
    "    \n",
    "    all_required_tags_present = all(tag in file_name for tag in required_tags)\n",
    "    no_forbidden_tags_present = not any(tag in file_name for tag in forbidden_tags)\n",
    "    \n",
    "    # Return TRUE if the file should be exported\n",
    "    return all_required_tags_present and no_forbidden_tags_present"
   ]
  },
  {
   "cell_type": "markdown",
   "id": "2b286b05",
   "metadata": {},
   "source": [
    "## Try/Except"
   ]
  },
  {
   "cell_type": "code",
   "execution_count": null,
   "id": "3c387929",
   "metadata": {},
   "outputs": [],
   "source": [
    "# x = 10"
   ]
  },
  {
   "cell_type": "code",
   "execution_count": null,
   "id": "e6c08f5d",
   "metadata": {},
   "outputs": [
    {
     "name": "stdout",
     "output_type": "stream",
     "text": [
      "10\n"
     ]
    }
   ],
   "source": [
    "# Restart Kernel before running \n",
    "try:\n",
    "  print(x)\n",
    "except:\n",
    "  print(\"An exception occurred\")"
   ]
  },
  {
   "cell_type": "code",
   "execution_count": 4,
   "id": "b8343218",
   "metadata": {},
   "outputs": [],
   "source": [
    "x = 2\n",
    "y = 5"
   ]
  },
  {
   "cell_type": "code",
   "execution_count": 2,
   "id": "efff88c0",
   "metadata": {},
   "outputs": [
    {
     "name": "stdout",
     "output_type": "stream",
     "text": [
      "Variable x is not defined\n"
     ]
    }
   ],
   "source": [
    "try:\n",
    "  print(x)\n",
    "except NameError:\n",
    "  print(\"Variable x is not defined\")\n",
    "except:\n",
    "  print(y)"
   ]
  },
  {
   "cell_type": "code",
   "execution_count": 1,
   "id": "7c9616a0",
   "metadata": {},
   "outputs": [],
   "source": [
    "# x = 6\n",
    "y = 5\n",
    "z = 2"
   ]
  },
  {
   "cell_type": "code",
   "execution_count": 2,
   "id": "5f5b3414",
   "metadata": {},
   "outputs": [
    {
     "name": "stdout",
     "output_type": "stream",
     "text": [
      "Something went wrong\n",
      "5\n"
     ]
    }
   ],
   "source": [
    "try:\n",
    "  if x == 10:\n",
    "    print(\"Hello\")\n",
    "except:\n",
    "  print(\"Something went wrong\")\n",
    "  print(y)\n",
    "else:\n",
    "  print(\"Nothing went wrong\")\n",
    "  print(z)"
   ]
  }
 ],
 "metadata": {
  "kernelspec": {
   "display_name": "Python 3",
   "language": "python",
   "name": "python3"
  },
  "language_info": {
   "codemirror_mode": {
    "name": "ipython",
    "version": 3
   },
   "file_extension": ".py",
   "mimetype": "text/x-python",
   "name": "python",
   "nbconvert_exporter": "python",
   "pygments_lexer": "ipython3",
   "version": "3.13.5"
  }
 },
 "nbformat": 4,
 "nbformat_minor": 5
}
